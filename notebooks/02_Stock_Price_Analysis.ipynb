{
 "cells": [
  {
   "cell_type": "code",
   "execution_count": null,
   "id": "4b011231",
   "metadata": {},
   "outputs": [
    {
     "ename": "ModuleNotFoundError",
     "evalue": "No module named 'pandas'",
     "output_type": "error",
     "traceback": [
      "\u001b[31m---------------------------------------------------------------------------\u001b[39m",
      "\u001b[31mModuleNotFoundError\u001b[39m                       Traceback (most recent call last)",
      "\u001b[36mCell\u001b[39m\u001b[36m \u001b[39m\u001b[32mIn[8]\u001b[39m\u001b[32m, line 1\u001b[39m\n\u001b[32m----> \u001b[39m\u001b[32m1\u001b[39m \u001b[38;5;28;01mimport\u001b[39;00m\u001b[38;5;250m \u001b[39m\u001b[34;01mpandas\u001b[39;00m\u001b[38;5;250m \u001b[39m\u001b[38;5;28;01mas\u001b[39;00m\u001b[38;5;250m \u001b[39m\u001b[34;01mpd\u001b[39;00m\n\u001b[32m      2\u001b[39m \u001b[38;5;28;01mimport\u001b[39;00m\u001b[38;5;250m \u001b[39m\u001b[34;01mglob\u001b[39;00m\n\u001b[32m      4\u001b[39m \u001b[38;5;66;03m# Load all stock data\u001b[39;00m\n",
      "\u001b[31mModuleNotFoundError\u001b[39m: No module named 'pandas'"
     ]
    }
   ],
   "source": [
    "import pandas as pd\n",
    "import glob\n",
    "import pynance as pn\n",
    "\n",
    "# Load all stock data\n",
    "stock_files = glob.glob('../data/raw/stock_prices/*.csv')\n",
    "stock_data = {}\n",
    "\n",
    "for file in stock_files:\n",
    "    ticker = file.split('/')[-1].split('_')[0]\n",
    "    stock_data[ticker] = pd.read_csv(file, parse_dates=['Date'], index_col='Date')"
   ]
  },
  {
   "cell_type": "code",
   "execution_count": null,
   "id": "6c22009b",
   "metadata": {},
   "outputs": [],
   "source": [
    "import matplotlib.dates as mdates\n",
    "\n",
    "plt.figure(figsize=(14,7))\n",
    "for ticker, data in stock_data.items():\n",
    "    data['Close'].plot(label=ticker, alpha=0.7)\n",
    "    \n",
    "plt.title('Comparative Stock Performance')\n",
    "plt.ylabel('Price (USD)')\n",
    "plt.legend()\n",
    "plt.gca().xaxis.set_major_locator(mdates.YearLocator())\n",
    "plt.grid(True, alpha=0.3)\n",
    "plt.tight_layout()\n",
    "plt.savefig('../figures/stock_comparison.png')\n",
    "plt.show()"
   ]
  },
  {
   "cell_type": "code",
   "execution_count": null,
   "id": "e9b2e2fe",
   "metadata": {},
   "outputs": [],
   "source": [
    "plt.figure(figsize=(12,6))\n",
    "for ticker in ['AAPL', 'TSLA', 'NVDA']:\n",
    "    returns = stock_data[ticker]['Close'].pct_change()\n",
    "    returns.rolling(21).std().plot(label=f'{ticker} 21-day Volatility')\n",
    "    \n",
    "plt.title('Historical Volatility Comparison')\n",
    "plt.ylabel('Volatility')\n",
    "plt.legend()\n",
    "plt.tight_layout()\n",
    "plt.show()"
   ]
  },
  {
   "cell_type": "code",
   "execution_count": null,
   "id": "08e42fa3",
   "metadata": {},
   "outputs": [
    {
     "ename": "",
     "evalue": "",
     "output_type": "error",
     "traceback": [
      "\u001b[1;31mFailed to start the Kernel. \n",
      "\u001b[1;31mUnable to start Kernel '.venv (Python 3.13.1)' due to a timeout waiting for the ports to get used. \n",
      "\u001b[1;31mView Jupyter <a href='command:jupyter.viewOutput'>log</a> for further details."
     ]
    }
   ],
   "source": [
    "import yfinance as yf # type: ignore\n",
    "\n",
    "# Download Apple stock data\n",
    "data = yf.download('AAPL', start='2023-01-01', end='2024-01-01')\n",
    "data.to_csv('../data/raw/AAPL_2023.csv')"
   ]
  },
  {
   "cell_type": "code",
   "execution_count": null,
   "id": "fe441aca",
   "metadata": {},
   "outputs": [],
   "source": [
    "print(data.head())\n",
    "# Ensure columns: Open, High, Low, Close, Volume"
   ]
  },
  {
   "cell_type": "code",
   "execution_count": null,
   "id": "c274be6e",
   "metadata": {},
   "outputs": [],
   "source": [
    "import talib\n",
    "\n",
    "data['SMA_20'] = talib.SMA(data['Close'], timeperiod=20)\n",
    "data['EMA_50'] = talib.EMA(data['Close'], timeperiod=50)"
   ]
  },
  {
   "cell_type": "code",
   "execution_count": null,
   "id": "55b9546b",
   "metadata": {},
   "outputs": [],
   "source": [
    "data['RSI_14'] = talib.RSI(data['Close'], timeperiod=14)\n",
    "data['MACD'], _, _ = talib.MACD(data['Close'])"
   ]
  },
  {
   "cell_type": "code",
   "execution_count": null,
   "id": "bbdc47ab",
   "metadata": {},
   "outputs": [],
   "source": [
    "data['ATR_14'] = talib.ATR(data['High'], data['Low'], \n",
    "                          data['Close'], timeperiod=14)"
   ]
  },
  {
   "cell_type": "code",
   "execution_count": null,
   "id": "ef7f3c54",
   "metadata": {},
   "outputs": [],
   "source": [
    "import matplotlib.pyplot as plt\n",
    "\n",
    "plt.figure(figsize=(12,6))\n",
    "plt.plot(data['Close'], label='Close Price', alpha=0.5)\n",
    "plt.plot(data['SMA_20'], label='20-Day SMA')\n",
    "plt.plot(data['EMA_50'], label='50-Day EMA')\n",
    "plt.legend()\n",
    "plt.savefig('../figures/moving_averages.png')\n",
    "plt.show()"
   ]
  },
  {
   "cell_type": "code",
   "execution_count": null,
   "id": "25407496",
   "metadata": {},
   "outputs": [],
   "source": [
    "plt.figure(figsize=(12,4))\n",
    "plt.axhline(70, color='r', linestyle='--')\n",
    "plt.axhline(30, color='g', linestyle='--')\n",
    "plt.plot(data['RSI_14'], label='RSI')\n",
    "plt.title('Relative Strength Index (14-Day)')\n",
    "plt.savefig('../figures/rsi.png')"
   ]
  },
  {
   "cell_type": "code",
   "execution_count": null,
   "id": "551e452d",
   "metadata": {},
   "outputs": [
    {
     "ename": "",
     "evalue": "",
     "output_type": "error",
     "traceback": [
      "\u001b[1;31mFailed to start the Kernel. \n",
      "\u001b[1;31mUnable to start Kernel '.venv (Python 3.13.1)' due to a timeout waiting for the ports to get used. \n",
      "\u001b[1;31mView Jupyter <a href='command:jupyter.viewOutput'>log</a> for further details."
     ]
    }
   ],
   "source": [
    "from pynance import returns\n",
    "\n",
    "data['Log_Returns'] = returns.log_returns(data['Close'])\n",
    "sharpe = returns.sharpe_ratio(data['Log_Returns'])\n",
    "print(f\"Sharpe Ratio: {sharpe:.2f}\")"
   ]
  },
  {
   "cell_type": "code",
   "execution_count": null,
   "id": "51a35d93",
   "metadata": {},
   "outputs": [],
   "source": [
    "max_drawdown = returns.max_drawdown(data['Close'])\n",
    "print(f\"Max Drawdown: {max_drawdown:.2%}\")"
   ]
  },
  {
   "cell_type": "code",
   "execution_count": 2,
   "id": "2dfba921",
   "metadata": {},
   "outputs": [
    {
     "ename": "NameError",
     "evalue": "name 'pn' is not defined",
     "output_type": "error",
     "traceback": [
      "\u001b[31m---------------------------------------------------------------------------\u001b[39m",
      "\u001b[31mNameError\u001b[39m                                 Traceback (most recent call last)",
      "\u001b[36mCell\u001b[39m\u001b[36m \u001b[39m\u001b[32mIn[2]\u001b[39m\u001b[32m, line 1\u001b[39m\n\u001b[32m----> \u001b[39m\u001b[32m1\u001b[39m aapl = \u001b[43mpn\u001b[49m.stock(\u001b[33m\"\u001b[39m\u001b[33mAAPL\u001b[39m\u001b[33m\"\u001b[39m)\n\u001b[32m      2\u001b[39m df = aapl.history(start=\u001b[33m\"\u001b[39m\u001b[33m2023-01-01\u001b[39m\u001b[33m\"\u001b[39m, end=\u001b[33m\"\u001b[39m\u001b[33m2023-12-31\u001b[39m\u001b[33m\"\u001b[39m)\n\u001b[32m      3\u001b[39m \u001b[38;5;28mprint\u001b[39m(df.head())\n",
      "\u001b[31mNameError\u001b[39m: name 'pn' is not defined"
     ]
    }
   ],
   "source": [
    "aapl = pn.stock(\"AAPL\")\n",
    "df = aapl.history(start=\"2023-01-01\", end=\"2023-12-31\")\n",
    "print(df.head())"
   ]
  },
  {
   "cell_type": "code",
   "execution_count": null,
   "id": "bb10deff",
   "metadata": {},
   "outputs": [],
   "source": [
    "from src.data_processing import load_stock_data\n",
    "\n",
    "df = load_stock_data(\"data/your_stock_file.csv\")\n"
   ]
  },
  {
   "cell_type": "code",
   "execution_count": null,
   "id": "b4c6c0ac",
   "metadata": {},
   "outputs": [],
   "source": [
    "from src.technical_indicators import add_indicators\n",
    "\n",
    "df = add_indicators(df)\n"
   ]
  },
  {
   "cell_type": "code",
   "execution_count": null,
   "id": "99865aca",
   "metadata": {},
   "outputs": [],
   "source": [
    "from src.visualization import plot_stock_indicators\n",
    "\n",
    "plot_stock_indicators(df)\n"
   ]
  },
  {
   "cell_type": "code",
   "execution_count": null,
   "id": "3349084a",
   "metadata": {},
   "outputs": [],
   "source": [
    "from pynance import equities as eq\n",
    "\n",
    "aapl = eq(\"AAPL\")\n",
    "prices = aapl.history(\"1mo\", \"1d\")\n",
    "\n"
   ]
  }
 ],
 "metadata": {
  "kernelspec": {
   "display_name": ".venv",
   "language": "python",
   "name": "python3"
  },
  "language_info": {
   "codemirror_mode": {
    "name": "ipython",
    "version": 3
   },
   "file_extension": ".py",
   "mimetype": "text/x-python",
   "name": "python",
   "nbconvert_exporter": "python",
   "pygments_lexer": "ipython3",
   "version": "3.13.1"
  }
 },
 "nbformat": 4,
 "nbformat_minor": 5
}
