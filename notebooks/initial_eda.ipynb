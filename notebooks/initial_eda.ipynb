{
 "cells": [
  {
   "cell_type": "code",
   "execution_count": null,
   "id": "96b34d9a",
   "metadata": {},
   "outputs": [],
   "source": [
    "import pandas as pd\n",
    "import matplotlib.pyplot as plt\n",
    "from wordcloud import WordCloud\n",
    "\n",
    "# Load data\n",
    "df = pd.read_csv('../data/financial_news.csv', parse_dates=['date'])\n",
    "\n",
    "# 1. Descriptive Statistics\n",
    "print(\"Headline length statistics:\")\n",
    "print(df['headline'].str.len().describe())\n",
    "\n",
    "# 2. Publisher Analysis\n",
    "publisher_counts = df['publisher'].value_counts()\n",
    "plt.figure(figsize=(10,6))\n",
    "publisher_counts[:20].plot(kind='bar')\n",
    "plt.title('Top 20 Publishers by Article Count')\n",
    "plt.show()\n",
    "\n",
    "# 3. Time Series Analysis\n",
    "df.set_index('date')['headline'].resample('D').count().plot()\n",
    "plt.title('Daily Article Publication Frequency')\n",
    "plt.ylabel('Article Count')\n",
    "plt.show()\n",
    "\n",
    "# 4. Text Analysis\n",
    "wordcloud = WordCloud(width=800, height=400).generate(' '.join(df['headline']))\n",
    "plt.figure(figsize=(15,8))\n",
    "plt.imshow(wordcloud)\n",
    "plt.axis(\"off\")\n",
    "plt.show()"
   ]
  }
 ],
 "metadata": {
  "language_info": {
   "name": "python"
  }
 },
 "nbformat": 4,
 "nbformat_minor": 5
}
