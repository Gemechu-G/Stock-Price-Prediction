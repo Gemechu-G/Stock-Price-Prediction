{
 "cells": [
  {
   "cell_type": "code",
   "execution_count": 2,
   "id": "b2873263",
   "metadata": {},
   "outputs": [
    {
     "ename": "ModuleNotFoundError",
     "evalue": "No module named 'pandas'",
     "output_type": "error",
     "traceback": [
      "\u001b[31m---------------------------------------------------------------------------\u001b[39m",
      "\u001b[31mModuleNotFoundError\u001b[39m                       Traceback (most recent call last)",
      "\u001b[36mCell\u001b[39m\u001b[36m \u001b[39m\u001b[32mIn[2]\u001b[39m\u001b[32m, line 6\u001b[39m\n\u001b[32m      1\u001b[39m \u001b[38;5;66;03m# %% [markdown]\u001b[39;00m\n\u001b[32m      2\u001b[39m \u001b[38;5;66;03m# # Analyst Ratings EDA\u001b[39;00m\n\u001b[32m      3\u001b[39m \u001b[38;5;66;03m# Initial exploration of raw analyst ratings data\u001b[39;00m\n\u001b[32m      4\u001b[39m \n\u001b[32m      5\u001b[39m \u001b[38;5;66;03m# %%\u001b[39;00m\n\u001b[32m----> \u001b[39m\u001b[32m6\u001b[39m \u001b[38;5;28;01mimport\u001b[39;00m\u001b[38;5;250m \u001b[39m\u001b[34;01mpandas\u001b[39;00m\u001b[38;5;250m \u001b[39m\u001b[38;5;28;01mas\u001b[39;00m\u001b[38;5;250m \u001b[39m\u001b[34;01mpd\u001b[39;00m\n\u001b[32m      7\u001b[39m \u001b[38;5;28;01mimport\u001b[39;00m\u001b[38;5;250m \u001b[39m\u001b[34;01mseaborn\u001b[39;00m\u001b[38;5;250m \u001b[39m\u001b[38;5;28;01mas\u001b[39;00m\u001b[38;5;250m \u001b[39m\u001b[34;01msns\u001b[39;00m\n\u001b[32m      8\u001b[39m \u001b[38;5;28;01mimport\u001b[39;00m\u001b[38;5;250m \u001b[39m\u001b[34;01mmatplotlib\u001b[39;00m\u001b[34;01m.\u001b[39;00m\u001b[34;01mpyplot\u001b[39;00m\u001b[38;5;250m \u001b[39m\u001b[38;5;28;01mas\u001b[39;00m\u001b[38;5;250m \u001b[39m\u001b[34;01mplt\u001b[39;00m\n",
      "\u001b[31mModuleNotFoundError\u001b[39m: No module named 'pandas'"
     ]
    }
   ],
   "source": [
    "# %% [markdown]\n",
    "# # Analyst Ratings EDA\n",
    "# Initial exploration of raw analyst ratings data\n",
    "\n",
    "# %%\n",
    "import pandas as pd\n",
    "import seaborn as sns\n",
    "import matplotlib.pyplot as plt\n",
    "\n",
    "# Load data\n",
    "ratings = pd.read_csv('../data/raw/analyst_ratings/raw_analyst_ratings.csv', \n",
    "                     parse_dates=['date'])\n",
    "\n",
    "# %% [markdown]\n",
    "# ## Basic Statistics\n",
    "# %%"
   ]
  },
  {
   "cell_type": "code",
   "execution_count": null,
   "id": "ae964cba",
   "metadata": {},
   "outputs": [],
   "source": [
    "\n",
    "print(\"Data shape:\", ratings.shape)\n",
    "print(\"\\nColumn types:\\n\", ratings.dtypes)\n",
    "print(\"\\nMissing values:\\n\", ratings.isna().sum())\n",
    "\n",
    "# %% [markdown]\n",
    "# ## Rating Distribution\n",
    "# %%\n",
    "plt.figure(figsize=(10,6))\n",
    "sns.countplot(data=ratings, y='rating', order=ratings['rating'].value_counts().index)\n",
    "plt.title('Distribution of Analyst Ratings')\n",
    "plt.tight_layout()\n",
    "plt.savefig('../figures/rating_distribution.png')\n",
    "plt.show()\n",
    "\n"
   ]
  },
  {
   "cell_type": "code",
   "execution_count": null,
   "id": "73741340",
   "metadata": {},
   "outputs": [],
   "source": [
    "# %% [markdown]\n",
    "# ## Firm Analysis\n",
    "# %%\n",
    "top_firms = ratings['firm'].value_counts().head(10)\n",
    "plt.figure(figsize=(12,6))\n",
    "sns.barplot(x=top_firms.values, y=top_firms.index, palette='viridis')\n",
    "plt.title('Top 10 Most Active Analyst Firms')\n",
    "plt.xlabel('Number of Ratings Issued')\n",
    "plt.tight_layout()\n",
    "plt.show()"
   ]
  }
 ],
 "metadata": {
  "kernelspec": {
   "display_name": ".venv",
   "language": "python",
   "name": "python3"
  },
  "language_info": {
   "codemirror_mode": {
    "name": "ipython",
    "version": 3
   },
   "file_extension": ".py",
   "mimetype": "text/x-python",
   "name": "python",
   "nbconvert_exporter": "python",
   "pygments_lexer": "ipython3",
   "version": "3.13.1"
  }
 },
 "nbformat": 4,
 "nbformat_minor": 5
}
