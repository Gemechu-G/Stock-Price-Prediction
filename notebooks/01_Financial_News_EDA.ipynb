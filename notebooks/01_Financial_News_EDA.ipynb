{
 "cells": [
  {
   "cell_type": "code",
   "execution_count": null,
   "id": "992b93a2",
   "metadata": {},
   "outputs": [],
   "source": [
    "# %% [markdown]\n",
    "# # Financial News EDA\n",
    "# ## Exploratory Data Analysis of Financial News Dataset\n",
    "# \n",
    "# ### Sections:\n",
    "# 1. Descriptive Statistics\n",
    "# 2. Publisher Analysis  \n",
    "# 3. Time Series Analysis  \n",
    "# 4. Text Mining & Topic Modeling  \n",
    "# 5. Publisher-Specific Deep Dive\n",
    "\n",
    "# %%\n",
    "# Section 1: Setup and Data Loading\n",
    "import pandas as pd\n",
    "import matplotlib.pyplot as plt\n",
    "\n",
    "# Load data\n",
    "df = pd.read_csv('../data/raw/financial_news.csv')  # Adjust path as needed\n",
    "print(\"Data shape:\", df.shape)\n",
    "\n",
    "# %% [markdown]\n",
    "# ## 1. Descriptive Statistics\n",
    "# %%\n",
    "# Text length analysis code from original answer...\n",
    "# [Paste all the descriptive stats code here]\n",
    "\n",
    "# %% [markdown]\n",
    "# ## 2. Publisher Analysis\n",
    "# %%\n",
    "# [Paste publisher analysis code here]\n",
    "\n",
    "# Continue with other sections..."
   ]
  }
 ],
 "metadata": {
  "language_info": {
   "name": "python"
  }
 },
 "nbformat": 4,
 "nbformat_minor": 5
}
