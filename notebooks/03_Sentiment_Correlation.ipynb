{
 "cells": [
  {
   "cell_type": "code",
   "execution_count": null,
   "id": "f2ad9188",
   "metadata": {},
   "outputs": [],
   "source": [
    "from src.data_processing import load_merged_data\n",
    "from src.visualization import plot_correlation_heatmap"
   ]
  },
  {
   "cell_type": "code",
   "execution_count": null,
   "id": "2607a579",
   "metadata": {},
   "outputs": [],
   "source": [
    "merged_df = load_merged_data()"
   ]
  },
  {
   "cell_type": "code",
   "execution_count": null,
   "id": "82654537",
   "metadata": {},
   "outputs": [],
   "source": [
    "import numpy as np\n",
    "\n",
    "lags = range(-5, 6)\n",
    "correlations = []\n",
    "\n",
    "for lag in lags:\n",
    "    corr = merged_df['rating_score'].corr(merged_df['price_change'].shift(-lag))\n",
    "    correlations.append(corr)\n",
    "\n",
    "plt.figure(figsize=(10,5))\n",
    "plt.plot(lags, correlations, marker='o')\n",
    "plt.axvline(0, color='red', linestyle='--')\n",
    "plt.title('Sentiment-Price Correlation at Different Lags')\n",
    "plt.xlabel('Days After Rating')\n",
    "plt.ylabel('Pearson Correlation')\n",
    "plt.grid(True)\n",
    "plt.tight_layout()\n",
    "plt.savefig('../figures/lag_correlation.png')\n",
    "plt.show()"
   ]
  }
 ],
 "metadata": {
  "language_info": {
   "name": "python"
  }
 },
 "nbformat": 4,
 "nbformat_minor": 5
}
