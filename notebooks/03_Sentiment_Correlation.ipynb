{
 "cells": [
  {
   "cell_type": "code",
   "execution_count": null,
   "id": "7737c8df",
   "metadata": {},
   "outputs": [],
   "source": [
    "import pandas as pd\n",
    "from textblob import TextBlob\n",
    "import numpy as np\n",
    "from scipy.stats import pearsonr\n"
   ]
  },
  {
   "cell_type": "code",
   "execution_count": null,
   "id": "f2ad9188",
   "metadata": {},
   "outputs": [],
   "source": [
    "from src.data_processing import load_merged_data\n",
    "from src.visualization import plot_correlation_heatmap"
   ]
  },
  {
   "cell_type": "code",
   "execution_count": null,
   "id": "2607a579",
   "metadata": {},
   "outputs": [],
   "source": [
    "merged_df = load_merged_data()"
   ]
  },
  {
   "cell_type": "code",
   "execution_count": null,
   "id": "82654537",
   "metadata": {},
   "outputs": [],
   "source": [
    "import numpy as np\n",
    "\n",
    "lags = range(-5, 6)\n",
    "correlations = []\n",
    "\n",
    "for lag in lags:\n",
    "    corr = merged_df['rating_score'].corr(merged_df['price_change'].shift(-lag))\n",
    "    correlations.append(corr)\n",
    "\n",
    "plt.figure(figsize=(10,5))\n",
    "plt.plot(lags, correlations, marker='o')\n",
    "plt.axvline(0, color='red', linestyle='--')\n",
    "plt.title('Sentiment-Price Correlation at Different Lags')\n",
    "plt.xlabel('Days After Rating')\n",
    "plt.ylabel('Pearson Correlation')\n",
    "plt.grid(True)\n",
    "plt.tight_layout()\n",
    "plt.savefig('../figures/lag_correlation.png')\n",
    "plt.show()"
   ]
  },
  {
   "cell_type": "code",
   "execution_count": null,
   "id": "11b68873",
   "metadata": {},
   "outputs": [],
   "source": [
    "\n",
    "# Load datasets\n",
    "news = pd.read_csv('../data/raw/financial_news.csv', parse_dates=['date'])\n",
    "prices = pd.read_csv('../data/raw/stock_prices.csv', parse_dates=['Date'])\n",
    "\n",
    "# Normalize timestamps (set both to market close time)\n",
    "news['date'] = pd.to_datetime(news['date']).dt.tz_localize(None)\n",
    "prices['date'] = pd.to_datetime(prices['Date']).dt.normalize() + pd.Timedelta(hours=16)  # 4 PM market close\n",
    "\n",
    "# Merge on date\n",
    "merged = pd.merge_asof(news.sort_values('date'), \n",
    "                      prices.sort_values('date'), \n",
    "                      on='date', \n",
    "                      direction='backward')"
   ]
  },
  {
   "cell_type": "code",
   "execution_count": null,
   "id": "d4c8c7f1",
   "metadata": {},
   "outputs": [],
   "source": [
    "# Calculate daily returns\n",
    "prices['daily_return'] = prices['Close'].pct_change() * 100  # Percentage\n",
    "\n",
    "# Merge with sentiment\n",
    "final_df = pd.merge(daily_sentiment, \n",
    "                   prices[['date', 'daily_return']], \n",
    "                   on='date').dropna()"
   ]
  },
  {
   "cell_type": "code",
   "execution_count": null,
   "id": "d969c21c",
   "metadata": {},
   "outputs": [],
   "source": [
    "\n",
    "corr, p_value = pearsonr(final_df['sentiment'], final_df['daily_return'])\n",
    "print(f\"Pearson Correlation: {corr:.3f} (p-value: {p_value:.4f})\")\n",
    "\n",
    "# Visualize\n",
    "import matplotlib.pyplot as plt\n",
    "plt.figure(figsize=(10,6))\n",
    "plt.scatter(final_df['sentiment'], final_df['daily_return'], alpha=0.5)\n",
    "plt.title(f\"Sentiment vs. Daily Returns (Correlation: {corr:.2f})\")\n",
    "plt.xlabel('Average Daily Sentiment Score')\n",
    "plt.ylabel('Daily Price Return (%)')\n",
    "plt.savefig('../figures/sentiment_correlation.png')\n",
    "plt.show()"
   ]
  },
  {
   "cell_type": "code",
   "execution_count": null,
   "id": "c967772e",
   "metadata": {},
   "outputs": [],
   "source": [
    "# Test correlations with lagged sentiment (0 to 3 days)\n",
    "for lag in [0, 1, 2, 3]:\n",
    "    final_df[f'sentiment_lag_{lag}'] = final_df['sentiment'].shift(lag)\n",
    "    corr = final_df[[f'sentiment_lag_{lag}', 'daily_return']].corr().iloc[0,1]\n",
    "    print(f\"Lag {lag} days: {corr:.3f}\")"
   ]
  }
 ],
 "metadata": {
  "language_info": {
   "name": "python"
  }
 },
 "nbformat": 4,
 "nbformat_minor": 5
}
